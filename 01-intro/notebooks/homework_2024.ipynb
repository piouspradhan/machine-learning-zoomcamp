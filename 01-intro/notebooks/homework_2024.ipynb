{
 "cells": [
  {
   "cell_type": "code",
   "execution_count": 1,
   "id": "51ca0fcd-e6ec-48be-b5af-f164be388e6e",
   "metadata": {},
   "outputs": [],
   "source": [
    "import pandas as pd\n",
    "import numpy as np"
   ]
  },
  {
   "cell_type": "code",
   "execution_count": 2,
   "id": "224a99a9-52ec-4f00-99c6-15252cd6ddec",
   "metadata": {},
   "outputs": [
    {
     "data": {
      "text/plain": [
       "'2.3.1'"
      ]
     },
     "execution_count": 2,
     "metadata": {},
     "output_type": "execute_result"
    }
   ],
   "source": [
    "pd.__version__"
   ]
  },
  {
   "cell_type": "code",
   "execution_count": 3,
   "id": "b0e69c63-180c-4a2c-9b3f-f68ec9a0e2c7",
   "metadata": {},
   "outputs": [],
   "source": [
    "df = pd.read_csv(\"https://raw.githubusercontent.com/alexeygrigorev/datasets/master/laptops.csv\")"
   ]
  },
  {
   "cell_type": "code",
   "execution_count": 4,
   "id": "7526e3c2-3db8-4f28-87c1-22ee2a33d79e",
   "metadata": {},
   "outputs": [
    {
     "data": {
      "text/plain": [
       "(2160, 12)"
      ]
     },
     "execution_count": 4,
     "metadata": {},
     "output_type": "execute_result"
    }
   ],
   "source": [
    "df.shape"
   ]
  },
  {
   "cell_type": "code",
   "execution_count": 5,
   "id": "e6170615-9d9d-4b14-907b-3fa15a82ee89",
   "metadata": {},
   "outputs": [
    {
     "data": {
      "text/plain": [
       "Index(['Laptop', 'Status', 'Brand', 'Model', 'CPU', 'RAM', 'Storage',\n",
       "       'Storage type', 'GPU', 'Screen', 'Touch', 'Final Price'],\n",
       "      dtype='object')"
      ]
     },
     "execution_count": 5,
     "metadata": {},
     "output_type": "execute_result"
    }
   ],
   "source": [
    "df.columns\n"
   ]
  },
  {
   "cell_type": "code",
   "execution_count": 6,
   "id": "cbe10e6e-7117-4d43-98b6-c1c278df022a",
   "metadata": {},
   "outputs": [
    {
     "data": {
      "text/plain": [
       "27"
      ]
     },
     "execution_count": 6,
     "metadata": {},
     "output_type": "execute_result"
    }
   ],
   "source": [
    "df.Brand.nunique()"
   ]
  },
  {
   "cell_type": "code",
   "execution_count": 7,
   "id": "b2c45327-f257-473d-acfd-3d34a2b3690c",
   "metadata": {},
   "outputs": [
    {
     "data": {
      "text/plain": [
       "array(['Asus', 'Alurin', 'MSI', 'HP', 'Lenovo', 'Medion', 'Acer', 'Apple',\n",
       "       'Razer', 'Gigabyte', 'Dell', 'LG', 'Samsung', 'PcCom', 'Microsoft',\n",
       "       'Primux', 'Prixton', 'Dynabook Toshiba', 'Thomson', 'Denver',\n",
       "       'Deep Gaming', 'Vant', 'Innjoo', 'Jetwing', 'Millenium', 'Realme',\n",
       "       'Toshiba'], dtype=object)"
      ]
     },
     "execution_count": 7,
     "metadata": {},
     "output_type": "execute_result"
    }
   ],
   "source": [
    "df.Brand.unique()"
   ]
  },
  {
   "cell_type": "code",
   "execution_count": 8,
   "id": "df8c96fd-f0c8-48bb-915f-932d9827e7eb",
   "metadata": {},
   "outputs": [
    {
     "data": {
      "text/plain": [
       "Laptop                                                                                              Status  Brand    Model        CPU                RAM  Storage  Storage type  GPU        Screen  Touch  Final Price\n",
       "ASUS  ROG Zephyrus M16 GU604VI-93D47PB1 Intel Core i9-13900H/32GB/1TB SSD/RTX 4070/16\" (PT)         New     Asus     ROG          Intel Core i9      32   1000     SSD           RTX 4070   16.0    No     3456.44        1\n",
       "ASUS ExpertBook B6 Flip B6602FC2-MH0248X Intel Core i7-12850HX/16GB/512GB SSD/RTX A2000/16\" Táctil  New     Asus     ExpertBook   Intel Core i7      16   512      SSD           RTX A2000  16.0    Yes    2499.00        1\n",
       "ASUS ProArt StudioBook Pro 16 OLED W7600Z3A-L2022X Intel Core i7-12700H/32GB/1TB SSD/RTX A3000/16\"  New     Asus     ProArt       Intel Core i7      32   1000     SSD           RTX A3000  16.0    No     2846.00        1\n",
       "ASUS ROG Flow X13 2023 GV302XV-MU006W AMD Ryzen 9 7940HS/16GB/1TB SSD/RTX 4060/13.4\" Táctil         New     Asus     ROG          AMD Ryzen 9        16   1000     SSD           RTX 4060   13.4    Yes    1999.00        1\n",
       "ASUS ROG Flow X13 GV301QC-K6120T AMD Ryzen 9 5980HS/32GB/1TB SSD/RTX 3050/13.4\" Táctil              New     Asus     ROG          AMD Ryzen 9        32   1000     SSD           RTX 3050   13.4    Yes    3943.37        1\n",
       "                                                                                                                                                                                                                         ..\n",
       "Razer Blade 17 QHD 240Hz Intel Core i7-12800H/16GB/1TB SSD/RTX 3060/17.3\"                           New     Razer    Blade        Intel Core i7      16   1000     SSD           RTX 3060   17.3    No     3099.99        1\n",
       "Razer Blade 17 QHD 240Hz Intel Core i7-12800H/16GB/1TB SSD/RTX 3070Ti/17.3\"                         New     Razer    Blade        Intel Core i7      16   1000     SSD           RTX 3070   17.3    No     3499.99        1\n",
       "Razer Blade 17 QHD 240Hz Intel Core i9-12900H/16GB/1TB SSD/RTX 3070Ti/17.3\"                         New     Razer    Blade        Intel Core i9      16   1000     SSD           RTX 3070   17.3    No     3899.99        1\n",
       "Samsung Galaxy Book3 Ultra Intel Evo Core i7-13700H/16GB/1TB SSD/RTX 4050/16\"                       New     Samsung  Galaxy Book  Intel Evo Core i7  16   1000     SSD           RTX 4050   16.0    No     2999.01        1\n",
       "Samsung Galaxy Book3 Ultra Intel Evo Core i9-13900H/32GB/1TB SSD/RTX 4070/16\"                       New     Samsung  Galaxy Book  Intel Evo Core i9  32   1000     SSD           RTX 4070   16.0    No     3699.01        1\n",
       "Name: count, Length: 781, dtype: int64"
      ]
     },
     "execution_count": 8,
     "metadata": {},
     "output_type": "execute_result"
    }
   ],
   "source": [
    "df.value_counts()\n"
   ]
  },
  {
   "cell_type": "code",
   "execution_count": 9,
   "id": "dd174bb9-65a7-438f-a092-780cce797bbb",
   "metadata": {},
   "outputs": [
    {
     "data": {
      "text/plain": [
       "Laptop          2160\n",
       "Status          2160\n",
       "Brand           2160\n",
       "Model           2160\n",
       "CPU             2160\n",
       "RAM             2160\n",
       "Storage         2160\n",
       "Storage type    2118\n",
       "GPU              789\n",
       "Screen          2156\n",
       "Touch           2160\n",
       "Final Price     2160\n",
       "dtype: int64"
      ]
     },
     "execution_count": 9,
     "metadata": {},
     "output_type": "execute_result"
    }
   ],
   "source": [
    "df.count()"
   ]
  },
  {
   "cell_type": "code",
   "execution_count": 10,
   "id": "b745edd3-5d1e-46e7-a7ce-4d61b9622270",
   "metadata": {},
   "outputs": [
    {
     "data": {
      "text/html": [
       "<div>\n",
       "<style scoped>\n",
       "    .dataframe tbody tr th:only-of-type {\n",
       "        vertical-align: middle;\n",
       "    }\n",
       "\n",
       "    .dataframe tbody tr th {\n",
       "        vertical-align: top;\n",
       "    }\n",
       "\n",
       "    .dataframe thead th {\n",
       "        text-align: right;\n",
       "    }\n",
       "</style>\n",
       "<table border=\"1\" class=\"dataframe\">\n",
       "  <thead>\n",
       "    <tr style=\"text-align: right;\">\n",
       "      <th></th>\n",
       "      <th>0</th>\n",
       "      <th>1</th>\n",
       "      <th>2</th>\n",
       "      <th>3</th>\n",
       "      <th>4</th>\n",
       "    </tr>\n",
       "  </thead>\n",
       "  <tbody>\n",
       "    <tr>\n",
       "      <th>Laptop</th>\n",
       "      <td>ASUS ExpertBook B1 B1502CBA-EJ0436X Intel Core...</td>\n",
       "      <td>Alurin Go Start Intel Celeron N4020/8GB/256GB ...</td>\n",
       "      <td>ASUS ExpertBook B1 B1502CBA-EJ0424X Intel Core...</td>\n",
       "      <td>MSI Katana GF66 12UC-082XES Intel Core i7-1270...</td>\n",
       "      <td>HP 15S-FQ5085NS Intel Core i5-1235U/16GB/512GB...</td>\n",
       "    </tr>\n",
       "    <tr>\n",
       "      <th>Status</th>\n",
       "      <td>New</td>\n",
       "      <td>New</td>\n",
       "      <td>New</td>\n",
       "      <td>New</td>\n",
       "      <td>New</td>\n",
       "    </tr>\n",
       "    <tr>\n",
       "      <th>Brand</th>\n",
       "      <td>Asus</td>\n",
       "      <td>Alurin</td>\n",
       "      <td>Asus</td>\n",
       "      <td>MSI</td>\n",
       "      <td>HP</td>\n",
       "    </tr>\n",
       "    <tr>\n",
       "      <th>Model</th>\n",
       "      <td>ExpertBook</td>\n",
       "      <td>Go</td>\n",
       "      <td>ExpertBook</td>\n",
       "      <td>Katana</td>\n",
       "      <td>15S</td>\n",
       "    </tr>\n",
       "    <tr>\n",
       "      <th>CPU</th>\n",
       "      <td>Intel Core i5</td>\n",
       "      <td>Intel Celeron</td>\n",
       "      <td>Intel Core i3</td>\n",
       "      <td>Intel Core i7</td>\n",
       "      <td>Intel Core i5</td>\n",
       "    </tr>\n",
       "    <tr>\n",
       "      <th>RAM</th>\n",
       "      <td>8</td>\n",
       "      <td>8</td>\n",
       "      <td>8</td>\n",
       "      <td>16</td>\n",
       "      <td>16</td>\n",
       "    </tr>\n",
       "    <tr>\n",
       "      <th>Storage</th>\n",
       "      <td>512</td>\n",
       "      <td>256</td>\n",
       "      <td>256</td>\n",
       "      <td>1000</td>\n",
       "      <td>512</td>\n",
       "    </tr>\n",
       "    <tr>\n",
       "      <th>Storage type</th>\n",
       "      <td>SSD</td>\n",
       "      <td>SSD</td>\n",
       "      <td>SSD</td>\n",
       "      <td>SSD</td>\n",
       "      <td>SSD</td>\n",
       "    </tr>\n",
       "    <tr>\n",
       "      <th>GPU</th>\n",
       "      <td>NaN</td>\n",
       "      <td>NaN</td>\n",
       "      <td>NaN</td>\n",
       "      <td>RTX 3050</td>\n",
       "      <td>NaN</td>\n",
       "    </tr>\n",
       "    <tr>\n",
       "      <th>Screen</th>\n",
       "      <td>15.6</td>\n",
       "      <td>15.6</td>\n",
       "      <td>15.6</td>\n",
       "      <td>15.6</td>\n",
       "      <td>15.6</td>\n",
       "    </tr>\n",
       "    <tr>\n",
       "      <th>Touch</th>\n",
       "      <td>No</td>\n",
       "      <td>No</td>\n",
       "      <td>No</td>\n",
       "      <td>No</td>\n",
       "      <td>No</td>\n",
       "    </tr>\n",
       "    <tr>\n",
       "      <th>Final Price</th>\n",
       "      <td>1009.0</td>\n",
       "      <td>299.0</td>\n",
       "      <td>789.0</td>\n",
       "      <td>1199.0</td>\n",
       "      <td>669.01</td>\n",
       "    </tr>\n",
       "  </tbody>\n",
       "</table>\n",
       "</div>"
      ],
      "text/plain": [
       "                                                              0  \\\n",
       "Laptop        ASUS ExpertBook B1 B1502CBA-EJ0436X Intel Core...   \n",
       "Status                                                      New   \n",
       "Brand                                                      Asus   \n",
       "Model                                                ExpertBook   \n",
       "CPU                                               Intel Core i5   \n",
       "RAM                                                           8   \n",
       "Storage                                                     512   \n",
       "Storage type                                                SSD   \n",
       "GPU                                                         NaN   \n",
       "Screen                                                     15.6   \n",
       "Touch                                                        No   \n",
       "Final Price                                              1009.0   \n",
       "\n",
       "                                                              1  \\\n",
       "Laptop        Alurin Go Start Intel Celeron N4020/8GB/256GB ...   \n",
       "Status                                                      New   \n",
       "Brand                                                    Alurin   \n",
       "Model                                                        Go   \n",
       "CPU                                               Intel Celeron   \n",
       "RAM                                                           8   \n",
       "Storage                                                     256   \n",
       "Storage type                                                SSD   \n",
       "GPU                                                         NaN   \n",
       "Screen                                                     15.6   \n",
       "Touch                                                        No   \n",
       "Final Price                                               299.0   \n",
       "\n",
       "                                                              2  \\\n",
       "Laptop        ASUS ExpertBook B1 B1502CBA-EJ0424X Intel Core...   \n",
       "Status                                                      New   \n",
       "Brand                                                      Asus   \n",
       "Model                                                ExpertBook   \n",
       "CPU                                               Intel Core i3   \n",
       "RAM                                                           8   \n",
       "Storage                                                     256   \n",
       "Storage type                                                SSD   \n",
       "GPU                                                         NaN   \n",
       "Screen                                                     15.6   \n",
       "Touch                                                        No   \n",
       "Final Price                                               789.0   \n",
       "\n",
       "                                                              3  \\\n",
       "Laptop        MSI Katana GF66 12UC-082XES Intel Core i7-1270...   \n",
       "Status                                                      New   \n",
       "Brand                                                       MSI   \n",
       "Model                                                    Katana   \n",
       "CPU                                               Intel Core i7   \n",
       "RAM                                                          16   \n",
       "Storage                                                    1000   \n",
       "Storage type                                                SSD   \n",
       "GPU                                                    RTX 3050   \n",
       "Screen                                                     15.6   \n",
       "Touch                                                        No   \n",
       "Final Price                                              1199.0   \n",
       "\n",
       "                                                              4  \n",
       "Laptop        HP 15S-FQ5085NS Intel Core i5-1235U/16GB/512GB...  \n",
       "Status                                                      New  \n",
       "Brand                                                        HP  \n",
       "Model                                                       15S  \n",
       "CPU                                               Intel Core i5  \n",
       "RAM                                                          16  \n",
       "Storage                                                     512  \n",
       "Storage type                                                SSD  \n",
       "GPU                                                         NaN  \n",
       "Screen                                                     15.6  \n",
       "Touch                                                        No  \n",
       "Final Price                                              669.01  "
      ]
     },
     "execution_count": 10,
     "metadata": {},
     "output_type": "execute_result"
    }
   ],
   "source": [
    "df.head().T"
   ]
  },
  {
   "cell_type": "code",
   "execution_count": 11,
   "id": "c1553cbd-97ff-44dc-8ef1-4bf95fa7307f",
   "metadata": {},
   "outputs": [
    {
     "data": {
      "text/plain": [
       "np.float64(3936.0)"
      ]
     },
     "execution_count": 11,
     "metadata": {},
     "output_type": "execute_result"
    }
   ],
   "source": [
    "df[df['Brand'] == 'Dell']['Final Price'].max()"
   ]
  },
  {
   "cell_type": "code",
   "execution_count": 12,
   "id": "527a5fa0-ebe8-4083-9f7b-25ad10940983",
   "metadata": {},
   "outputs": [
    {
     "data": {
      "text/plain": [
       "np.float64(15.6)"
      ]
     },
     "execution_count": 12,
     "metadata": {},
     "output_type": "execute_result"
    }
   ],
   "source": [
    "df['Screen'].median()"
   ]
  },
  {
   "cell_type": "code",
   "execution_count": 13,
   "id": "6ca60751-caba-49cd-a7ce-55fbdbfc4cd7",
   "metadata": {},
   "outputs": [
    {
     "data": {
      "text/plain": [
       "Screen\n",
       "15.6    1009\n",
       "14.0     392\n",
       "16.0     174\n",
       "17.3     161\n",
       "13.3     131\n",
       "Name: count, dtype: int64"
      ]
     },
     "execution_count": 13,
     "metadata": {},
     "output_type": "execute_result"
    }
   ],
   "source": [
    "df['Screen'].value_counts().head()"
   ]
  },
  {
   "cell_type": "code",
   "execution_count": 14,
   "id": "1d404aba-7ab4-4299-b727-84bb59dc8d8f",
   "metadata": {},
   "outputs": [],
   "source": [
    "df['Screen'] = df['Screen'].fillna(df['Screen'].value_counts().head())"
   ]
  },
  {
   "cell_type": "code",
   "execution_count": 15,
   "id": "03c685fa-a884-4b68-bbb7-eb32db036d4b",
   "metadata": {},
   "outputs": [
    {
     "data": {
      "text/plain": [
       "np.float64(15.6)"
      ]
     },
     "execution_count": 15,
     "metadata": {},
     "output_type": "execute_result"
    }
   ],
   "source": [
    "df['Screen'].median()"
   ]
  },
  {
   "cell_type": "code",
   "execution_count": 16,
   "id": "169a5485-9a6e-470b-90ab-0e45b32da24e",
   "metadata": {},
   "outputs": [
    {
     "data": {
      "text/html": [
       "<div>\n",
       "<style scoped>\n",
       "    .dataframe tbody tr th:only-of-type {\n",
       "        vertical-align: middle;\n",
       "    }\n",
       "\n",
       "    .dataframe tbody tr th {\n",
       "        vertical-align: top;\n",
       "    }\n",
       "\n",
       "    .dataframe thead th {\n",
       "        text-align: right;\n",
       "    }\n",
       "</style>\n",
       "<table border=\"1\" class=\"dataframe\">\n",
       "  <thead>\n",
       "    <tr style=\"text-align: right;\">\n",
       "      <th></th>\n",
       "      <th>Laptop</th>\n",
       "      <th>Status</th>\n",
       "      <th>Brand</th>\n",
       "      <th>Model</th>\n",
       "      <th>CPU</th>\n",
       "      <th>RAM</th>\n",
       "      <th>Storage</th>\n",
       "      <th>Storage type</th>\n",
       "      <th>GPU</th>\n",
       "      <th>Screen</th>\n",
       "      <th>Touch</th>\n",
       "      <th>Final Price</th>\n",
       "    </tr>\n",
       "  </thead>\n",
       "  <tbody>\n",
       "    <tr>\n",
       "      <th>1478</th>\n",
       "      <td>InnJoo Voom Excellence Intel Celeron N4020/8GB...</td>\n",
       "      <td>New</td>\n",
       "      <td>Innjoo</td>\n",
       "      <td>Voom</td>\n",
       "      <td>Intel Celeron</td>\n",
       "      <td>8</td>\n",
       "      <td>256</td>\n",
       "      <td>SSD</td>\n",
       "      <td>NaN</td>\n",
       "      <td>15.6</td>\n",
       "      <td>No</td>\n",
       "      <td>311.37</td>\n",
       "    </tr>\n",
       "    <tr>\n",
       "      <th>1479</th>\n",
       "      <td>InnJoo Voom Excellence Pro Intel Celeron N4020...</td>\n",
       "      <td>New</td>\n",
       "      <td>Innjoo</td>\n",
       "      <td>Voom</td>\n",
       "      <td>Intel Celeron</td>\n",
       "      <td>8</td>\n",
       "      <td>512</td>\n",
       "      <td>SSD</td>\n",
       "      <td>NaN</td>\n",
       "      <td>15.6</td>\n",
       "      <td>No</td>\n",
       "      <td>392.55</td>\n",
       "    </tr>\n",
       "    <tr>\n",
       "      <th>1480</th>\n",
       "      <td>Innjoo Voom Intel Celeron N3350/4GB/64GB eMMC/...</td>\n",
       "      <td>New</td>\n",
       "      <td>Innjoo</td>\n",
       "      <td>Voom</td>\n",
       "      <td>Intel Celeron</td>\n",
       "      <td>4</td>\n",
       "      <td>64</td>\n",
       "      <td>eMMC</td>\n",
       "      <td>NaN</td>\n",
       "      <td>14.1</td>\n",
       "      <td>No</td>\n",
       "      <td>251.40</td>\n",
       "    </tr>\n",
       "    <tr>\n",
       "      <th>1481</th>\n",
       "      <td>Innjoo Voom Laptop Max Intel Celeron N3350/6GB...</td>\n",
       "      <td>New</td>\n",
       "      <td>Innjoo</td>\n",
       "      <td>Voom</td>\n",
       "      <td>Intel Celeron</td>\n",
       "      <td>6</td>\n",
       "      <td>64</td>\n",
       "      <td>eMMC</td>\n",
       "      <td>NaN</td>\n",
       "      <td>14.1</td>\n",
       "      <td>No</td>\n",
       "      <td>383.61</td>\n",
       "    </tr>\n",
       "    <tr>\n",
       "      <th>1482</th>\n",
       "      <td>Innjoo Voom Laptop Pro Intel Celeron N3350/6GB...</td>\n",
       "      <td>New</td>\n",
       "      <td>Innjoo</td>\n",
       "      <td>Voom</td>\n",
       "      <td>Intel Celeron</td>\n",
       "      <td>6</td>\n",
       "      <td>128</td>\n",
       "      <td>SSD</td>\n",
       "      <td>NaN</td>\n",
       "      <td>14.1</td>\n",
       "      <td>No</td>\n",
       "      <td>317.02</td>\n",
       "    </tr>\n",
       "    <tr>\n",
       "      <th>1483</th>\n",
       "      <td>Innjoo Voom Pro Intel Celeron N3350/6GB/128GB ...</td>\n",
       "      <td>New</td>\n",
       "      <td>Innjoo</td>\n",
       "      <td>Voom</td>\n",
       "      <td>Intel Celeron</td>\n",
       "      <td>6</td>\n",
       "      <td>128</td>\n",
       "      <td>eMMC</td>\n",
       "      <td>NaN</td>\n",
       "      <td>14.1</td>\n",
       "      <td>No</td>\n",
       "      <td>431.38</td>\n",
       "    </tr>\n",
       "  </tbody>\n",
       "</table>\n",
       "</div>"
      ],
      "text/plain": [
       "                                                 Laptop Status   Brand Model  \\\n",
       "1478  InnJoo Voom Excellence Intel Celeron N4020/8GB...    New  Innjoo  Voom   \n",
       "1479  InnJoo Voom Excellence Pro Intel Celeron N4020...    New  Innjoo  Voom   \n",
       "1480  Innjoo Voom Intel Celeron N3350/4GB/64GB eMMC/...    New  Innjoo  Voom   \n",
       "1481  Innjoo Voom Laptop Max Intel Celeron N3350/6GB...    New  Innjoo  Voom   \n",
       "1482  Innjoo Voom Laptop Pro Intel Celeron N3350/6GB...    New  Innjoo  Voom   \n",
       "1483  Innjoo Voom Pro Intel Celeron N3350/6GB/128GB ...    New  Innjoo  Voom   \n",
       "\n",
       "                CPU  RAM  Storage Storage type  GPU  Screen Touch  Final Price  \n",
       "1478  Intel Celeron    8      256          SSD  NaN    15.6    No       311.37  \n",
       "1479  Intel Celeron    8      512          SSD  NaN    15.6    No       392.55  \n",
       "1480  Intel Celeron    4       64         eMMC  NaN    14.1    No       251.40  \n",
       "1481  Intel Celeron    6       64         eMMC  NaN    14.1    No       383.61  \n",
       "1482  Intel Celeron    6      128          SSD  NaN    14.1    No       317.02  \n",
       "1483  Intel Celeron    6      128         eMMC  NaN    14.1    No       431.38  "
      ]
     },
     "execution_count": 16,
     "metadata": {},
     "output_type": "execute_result"
    }
   ],
   "source": [
    "df[df['Brand'] == 'Innjoo']"
   ]
  },
  {
   "cell_type": "code",
   "execution_count": 17,
   "id": "8d86c5d4-d4a0-44c8-a985-d94deae8e312",
   "metadata": {},
   "outputs": [],
   "source": [
    "df_injoo = df[df['Brand'] == 'Innjoo'][['RAM', 'Storage', 'Screen']]"
   ]
  },
  {
   "cell_type": "code",
   "execution_count": 18,
   "id": "ca69caa6-a06f-40ab-a983-2bc2cd28bce8",
   "metadata": {},
   "outputs": [],
   "source": [
    "X = np.array(df_injoo)"
   ]
  },
  {
   "cell_type": "code",
   "execution_count": 19,
   "id": "4bdb9d48-38b8-4c11-821b-7853bcf513d1",
   "metadata": {},
   "outputs": [],
   "source": [
    "XTX = X.T.dot(X)"
   ]
  },
  {
   "cell_type": "code",
   "execution_count": 20,
   "id": "50a8bd65-e506-49a4-96be-e83f5476ea68",
   "metadata": {},
   "outputs": [],
   "source": [
    "y = [1100, 1300, 800, 900, 1000, 1100]"
   ]
  },
  {
   "cell_type": "code",
   "execution_count": 21,
   "id": "d52f0990-f792-4f59-9e79-01f1349c203c",
   "metadata": {},
   "outputs": [
    {
     "data": {
      "text/plain": [
       "[1100, 1300, 800, 900, 1000, 1100]"
      ]
     },
     "execution_count": 21,
     "metadata": {},
     "output_type": "execute_result"
    }
   ],
   "source": [
    "y"
   ]
  },
  {
   "cell_type": "code",
   "execution_count": 22,
   "id": "f151e98c-b071-4147-9062-2fd6c68d2850",
   "metadata": {},
   "outputs": [],
   "source": [
    "w = np.linalg.inv(XTX).dot(X.T).dot(y)"
   ]
  },
  {
   "cell_type": "code",
   "execution_count": 23,
   "id": "0cfdea91-b5ce-47fd-9cf0-b98fad8c6936",
   "metadata": {},
   "outputs": [
    {
     "data": {
      "text/plain": [
       "np.float64(91.3)"
      ]
     },
     "execution_count": 23,
     "metadata": {},
     "output_type": "execute_result"
    }
   ],
   "source": [
    "w.sum().round(2)"
   ]
  },
  {
   "cell_type": "code",
   "execution_count": null,
   "id": "ff5e5963-0f44-40f4-a04f-2fc5478755a2",
   "metadata": {},
   "outputs": [],
   "source": []
  },
  {
   "cell_type": "code",
   "execution_count": null,
   "id": "fbe2cf51-9379-4f5e-b09f-76085f9a9706",
   "metadata": {},
   "outputs": [],
   "source": []
  }
 ],
 "metadata": {
  "kernelspec": {
   "display_name": "Python 3 (ipykernel)",
   "language": "python",
   "name": "python3"
  },
  "language_info": {
   "codemirror_mode": {
    "name": "ipython",
    "version": 3
   },
   "file_extension": ".py",
   "mimetype": "text/x-python",
   "name": "python",
   "nbconvert_exporter": "python",
   "pygments_lexer": "ipython3",
   "version": "3.12.1"
  }
 },
 "nbformat": 4,
 "nbformat_minor": 5
}
